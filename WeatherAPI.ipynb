{
 "cells": [
  {
   "cell_type": "markdown",
   "metadata": {},
   "source": [
    "# Outline\n",
    "Text goes here"
   ]
  },
  {
   "cell_type": "code",
   "execution_count": 23,
   "metadata": {},
   "outputs": [],
   "source": [
    "# Imports\n",
    "import warnings\n",
    "warnings.filterwarnings(\"ignore\")\n",
    "\n",
    "import pandas as pd\n",
    "from citipy import citipy\n",
    "import random\n",
    "import requests\n",
    "import json\n",
    "import io\n",
    "\n",
    "\n",
    "\n",
    "# Get API key from api_keys.py\n",
    "import api_keys\n",
    "api_ow = api_keys.api_ow"
   ]
  },
  {
   "cell_type": "code",
   "execution_count": 24,
   "metadata": {},
   "outputs": [],
   "source": [
    "# Sample API call for OpenWeather geolocation:\n",
    "# http://api.openweathermap.org/geo/1.0/direct?q=CITYNAME,STATECODE,COUNTRYCODE&limit=LIMIT&appid=APIKEY\n",
    "\n",
    "# Sample API call for OpenWeather weather data:\n",
    "# units = \"imperal\"\n",
    "#api_string = \"https://api.openweathermap.org/data/2.5/weather?lat=\" + LATITUDE + \"&lon=\" + LONGITUDE + \"&appid=\" + api_ow + \"&units=\" + units"
   ]
  },
  {
   "cell_type": "code",
   "execution_count": 65,
   "metadata": {},
   "outputs": [],
   "source": [
    "# Functions\n",
    "\n",
    "# Generates a random number between -180 and 180 degrees (0 is Greenwich, England).\n",
    "def genLatitude():\n",
    "    randomLat = random.uniform(-180, 180)\n",
    "    return round(randomLat, 5)\n",
    "\n",
    "# Generates a random number between -90 and 90 degrees (0 is equator)\n",
    "def genLongitude():\n",
    "    randomLong = random.uniform(-90, 90)\n",
    "    return round(randomLong, 5)\n",
    "\n",
    "# Send an OpenWeather API request with a city name, a country code, and a limit of the number of responses. In most cases the limit should be 1.\n",
    "# Return the details of the city in a single-row dataframe.\n",
    "def getCityCoordinates(city, country, limit):\n",
    "    api_string = \"http://api.openweathermap.org/geo/1.0/direct?q=\" + city + \",\" + country + \"&limit=\" + str(limit) + \"&appid=\" + api_ow + \"&lang=en\"\n",
    "    result = requests.get(api_string)\n",
    "    print(\"Sending API request to geolocate city: \" + api_string)\n",
    "    print(\"Got API response: \" + result.content.decode(\"utf-8\"))\n",
    "    df_result = pd.read_json(result.content.decode(\"utf-8\"))\n",
    "    result_columns = [\"name\", \"lat\", \"lon\", \"country\", \"state\"]\n",
    "    df_result = df_result.loc[:, result_columns]\n",
    "    return df_result\n",
    "\n",
    "# Send an OpenWeather API request with a set of latitude and longitude coordinates and the type of units (valid values are \"standard\", \"metric\", \"imperial\").\n",
    "# Response will be in JSON. Extract temperature, humidity, cloudiness, wind speed.\n",
    "# Return a single-row dataframe.\n",
    "def getWeatherData(lat, long, units):\n",
    "    api_string = \"https://api.openweathermap.org/data/2.5/weather?lat=\" + str(lat) + \"&lon=\" + str(long) + \"&appid=\" + api_ow + \"&units=\" + units\n",
    "    result = requests.get(api_string)\n",
    "    print(\"Sending API request for weather data: \" + api_string)\n",
    "    print(\"Got API response: \" + result.content.decode(\"utf-8\"))\n",
    "    json_result = result.content.decode(\"utf-8\")\n",
    "    json_result = json.loads(json_result)\n",
    "    return json_result\n",
    "\n",
    "\n",
    "\n",
    "\n",
    "\n",
    "\n",
    "    "
   ]
  },
  {
   "cell_type": "code",
   "execution_count": null,
   "metadata": {},
   "outputs": [],
   "source": [
    "# scraps\n",
    "\n",
    "    #json_as_file = io.BytesIO(json_result)\n",
    "    #dfs = []\n",
    "    #with open(json_result, 'r') as f:\n",
    "    #    for line in f:\n",
    "    #        data = json.loads(line)\n",
    "    #        df = pd.DataFrame.from_dict(data)\n",
    "    #        dfs.append(df)\n",
    "    #df_result = pd.concat(dfs, ignore_index=True)\n",
    "\n",
    "    #df_result = pd.DataFrame.from_dict(data_json)\n",
    "    #print(df_result)\n",
    "\n",
    "\n",
    "\n",
    "\n",
    "    #df_result = pd.read_json(result.content.decode(\"utf-8\"))\n",
    "    #print(df_result)"
   ]
  },
  {
   "cell_type": "code",
   "execution_count": 26,
   "metadata": {},
   "outputs": [],
   "source": [
    "# Generate 500 random sets of long/lat coordinates.\n",
    "# Get the nearest city to each coordinates. If it's not in the list, add its weather data.\n",
    "cities_500 = []\n",
    "count = 1\n",
    "while count <= 500:\n",
    "    lat = genLatitude()\n",
    "    long = genLongitude()\n",
    "    nearest = citipy.nearest_city(lat, long)\n",
    "    city = [nearest.city_name, nearest.country_code]\n",
    "\n",
    "    # Only add the city if it's unique\n",
    "    if city not in cities_500:\n",
    "        cities_500.append(city)\n",
    "        count += 1"
   ]
  },
  {
   "cell_type": "code",
   "execution_count": null,
   "metadata": {},
   "outputs": [],
   "source": [
    "# Dataframe to hold city data.\n",
    "df_cities = pd.DataFrame(columns=[\"City Name\", \"Latitude\", \"Longitude\", \"Temperature (F)\", \"Humidity (%)\", \"Cloudiness (%)\", \"Wind speed (MPH)\"])\n",
    "df_cities"
   ]
  },
  {
   "cell_type": "code",
   "execution_count": 75,
   "metadata": {},
   "outputs": [
    {
     "name": "stdout",
     "output_type": "stream",
     "text": [
      "Sending API request to geolocate city: http://api.openweathermap.org/geo/1.0/direct?q=iqaluit,ca&limit=1&appid=8d5b3e696eb6fbf16ef9ac306b2f3965&lang=en\n",
      "Got API response: [{\"name\":\"Iqaluit\",\"local_names\":{\"lt\":\"Ikaluitas\",\"he\":\"איקאלואיט\",\"ru\":\"Икалуит\",\"fr\":\"Iqaluit\",\"el\":\"Ικάλουιτ\",\"iu\":\"ᐃᖃᓗᐃᑦ\",\"uk\":\"Ікалуїт\",\"en\":\"Iqaluit\",\"ar\":\"إقالويت\"},\"lat\":63.74944,\"lon\":-68.521857,\"country\":\"CA\",\"state\":\"Nunavut\"}]\n",
      "Sending API request for weather data: https://api.openweathermap.org/data/2.5/weather?lat=63.74944&lon=-68.521857&appid=8d5b3e696eb6fbf16ef9ac306b2f3965&units=imperial\n",
      "Got API response: {\"coord\":{\"lon\":-68.5219,\"lat\":63.7494},\"weather\":[{\"id\":600,\"main\":\"Snow\",\"description\":\"light snow\",\"icon\":\"13d\"}],\"base\":\"stations\",\"main\":{\"temp\":32.92,\"feels_like\":29.77,\"temp_min\":32.92,\"temp_max\":33.75,\"pressure\":1005,\"humidity\":93},\"visibility\":10000,\"wind\":{\"speed\":3.44,\"deg\":150},\"clouds\":{\"all\":75},\"dt\":1718142115,\"sys\":{\"type\":2,\"id\":47658,\"country\":\"CA\",\"sunrise\":1718086585,\"sunset\":1718160687},\"timezone\":-14400,\"id\":5983720,\"name\":\"Iqaluit\",\"cod\":200}\n"
     ]
    },
    {
     "data": {
      "text/plain": [
       "{'coord': {'lon': -68.5219, 'lat': 63.7494},\n",
       " 'weather': [{'id': 600,\n",
       "   'main': 'Snow',\n",
       "   'description': 'light snow',\n",
       "   'icon': '13d'}],\n",
       " 'base': 'stations',\n",
       " 'main': {'temp': 32.92,\n",
       "  'feels_like': 29.77,\n",
       "  'temp_min': 32.92,\n",
       "  'temp_max': 33.75,\n",
       "  'pressure': 1005,\n",
       "  'humidity': 93},\n",
       " 'visibility': 10000,\n",
       " 'wind': {'speed': 3.44, 'deg': 150},\n",
       " 'clouds': {'all': 75},\n",
       " 'dt': 1718142115,\n",
       " 'sys': {'type': 2,\n",
       "  'id': 47658,\n",
       "  'country': 'CA',\n",
       "  'sunrise': 1718086585,\n",
       "  'sunset': 1718160687},\n",
       " 'timezone': -14400,\n",
       " 'id': 5983720,\n",
       " 'name': 'Iqaluit',\n",
       " 'cod': 200}"
      ]
     },
     "execution_count": 75,
     "metadata": {},
     "output_type": "execute_result"
    }
   ],
   "source": [
    "df_test = getCityCoordinates(\"iqaluit\", \"ca\", 1)\n",
    "json_test = getWeatherData(df_test[\"lat\"][0], df_test[\"lon\"][0], \"imperial\")\n",
    "json_test\n"
   ]
  },
  {
   "cell_type": "code",
   "execution_count": 81,
   "metadata": {},
   "outputs": [
    {
     "data": {
      "text/html": [
       "<div>\n",
       "<style scoped>\n",
       "    .dataframe tbody tr th:only-of-type {\n",
       "        vertical-align: middle;\n",
       "    }\n",
       "\n",
       "    .dataframe tbody tr th {\n",
       "        vertical-align: top;\n",
       "    }\n",
       "\n",
       "    .dataframe thead th {\n",
       "        text-align: right;\n",
       "    }\n",
       "</style>\n",
       "<table border=\"1\" class=\"dataframe\">\n",
       "  <thead>\n",
       "    <tr style=\"text-align: right;\">\n",
       "      <th></th>\n",
       "      <th>City Name</th>\n",
       "      <th>Temperature (F)</th>\n",
       "      <th>Humidity (%)</th>\n",
       "      <th>Cloudiness (%)</th>\n",
       "      <th>Wind Speed (MPH)</th>\n",
       "    </tr>\n",
       "  </thead>\n",
       "  <tbody>\n",
       "  </tbody>\n",
       "</table>\n",
       "</div>"
      ],
      "text/plain": [
       "Empty DataFrame\n",
       "Columns: [City Name, Temperature (F), Humidity (%), Cloudiness (%), Wind Speed (MPH)]\n",
       "Index: []"
      ]
     },
     "execution_count": 81,
     "metadata": {},
     "output_type": "execute_result"
    }
   ],
   "source": [
    "df_columns = [\"City Name\", \"Temperature (F)\", \"Humidity (%)\", \"Cloudiness (%)\", \"Wind Speed (MPH)\"]\n",
    "df_weather = pd.DataFrame(columns=df_columns)\n",
    "row_to_add = {\n",
    "    \"City Name\": json_test[\"name\"],\n",
    "    \"Temperature (F)\": json_test[\"main\"][\"temp\"],\n",
    "    \"Humidity (%)\": json_test[\"main\"][\"humidity\"],\n",
    "    \"Cloudiness (%)\": json_test[\"clouds\"][\"all\"],\n",
    "    \"Wind Speed (MPH)\": json_test[\"wind\"][\"speed\"]\n",
    "}\n",
    "\n",
    "df_weather = df_weather.add(row_to_add)\n",
    "df_weather\n"
   ]
  },
  {
   "cell_type": "code",
   "execution_count": null,
   "metadata": {},
   "outputs": [],
   "source": []
  }
 ],
 "metadata": {
  "kernelspec": {
   "display_name": "base",
   "language": "python",
   "name": "python3"
  },
  "language_info": {
   "codemirror_mode": {
    "name": "ipython",
    "version": 3
   },
   "file_extension": ".py",
   "mimetype": "text/x-python",
   "name": "python",
   "nbconvert_exporter": "python",
   "pygments_lexer": "ipython3",
   "version": "3.11.5"
  }
 },
 "nbformat": 4,
 "nbformat_minor": 2
}
