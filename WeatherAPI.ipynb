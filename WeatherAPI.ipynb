{
 "cells": [
  {
   "cell_type": "markdown",
   "metadata": {},
   "source": [
    "# Outline\n",
    "Text goes here"
   ]
  },
  {
   "cell_type": "code",
   "execution_count": 100,
   "metadata": {},
   "outputs": [],
   "source": [
    "# Imports\n",
    "import pandas as pd\n",
    "from citipy import citipy\n",
    "import random\n",
    "import requests\n",
    "\n",
    "# Get API key from api_keys.py\n",
    "import api_keys\n",
    "api_ow = api_keys.api_ow"
   ]
  },
  {
   "cell_type": "code",
   "execution_count": 101,
   "metadata": {},
   "outputs": [],
   "source": [
    "# Sample API call for OpenWeather geolocation:\n",
    "# http://api.openweathermap.org/geo/1.0/direct?q=CITYNAME,STATECODE,COUNTRYCODE&limit=LIMIT&appid=APIKEY\n",
    "\n",
    "# Sample API call for OpenWeather weather data:\n",
    "# units = \"imperal\"\n",
    "#api_string = \"https://api.openweathermap.org/data/2.5/weather?lat=\" + LATITUDE + \"&lon=\" + LONGITUDE + \"&appid=\" + api_ow + \"&units=\" + units"
   ]
  },
  {
   "cell_type": "code",
   "execution_count": 107,
   "metadata": {},
   "outputs": [],
   "source": [
    "# Functions\n",
    "\n",
    "# Generates a random number between -180 and 180 degrees (0 is Greenwich, England).\n",
    "def genLatitude():\n",
    "    randomLat = random.uniform(-180, 180)\n",
    "    return round(randomLat, 5)\n",
    "\n",
    "# Generates a random number between -90 and 90 degrees (0 is equator)\n",
    "def genLongitude():\n",
    "    randomLong = random.uniform(-90, 90)\n",
    "    return round(randomLong, 5)\n",
    "\n",
    "# Send an OpenWeather API request with a city name, a country code, and a limit of the number of responses. In most cases the limit should be 1.\n",
    "# Return the details of the city in a dataframe\n",
    "def getCityCoordinates(city, country, limit):\n",
    "    api_string = \"http://api.openweathermap.org/geo/1.0/direct?q=\" + city + \",\" + country + \"&limit=\" + str(limit) + \"&appid=\" + api_ow + \"&lang=en\"\n",
    "    result = requests.get(api_string)\n",
    "    #print(\"Sending API request: \" + api_string)\n",
    "    #print(\"Got API response: \" + result.content.decode(\"utf-8\"))\n",
    "    df_result = pd.read_json(result.content.decode(\"utf-8\"))\n",
    "    result_columns = [\"name\", \"lat\", \"lon\", \"country\", \"state\"]\n",
    "    df_result = df_result.loc[:, result_columns]\n",
    "    return df_result\n",
    "\n",
    "# Send an OpenWeather API request with a set of latitude and longitude coordinates and the type of units (valid values are \"standard\", \"metric\", \"imperial\").\n",
    "# Response will be in JSON. Extract temperature, humidity, cloudiness, wind speed.\n",
    "# Return a single-row dataframe.\n",
    "def getWeatherData(lat, long, units):\n",
    "    api_string = \"https://api.openweathermap.org/data/2.5/weather?lat=\" + lat + \"&lon=\" + long + \"&appid=\" + api_ow + \"&units=\" + units\n",
    "    result = requests.get(api_string)\n",
    "    #result_json = pd.read_json(result)\n",
    "    #print(result_json)\n",
    "    "
   ]
  },
  {
   "cell_type": "code",
   "execution_count": 103,
   "metadata": {},
   "outputs": [],
   "source": [
    "# Generate 500 random sets of long/lat coordinates.\n",
    "# Get the nearest city to each coordinates. If it's not in the list, add its weather data.\n",
    "cities_500 = []\n",
    "count = 1\n",
    "while count <= 500:\n",
    "    lat = genLatitude()\n",
    "    long = genLongitude()\n",
    "    nearest = citipy.nearest_city(lat, long)\n",
    "    city = [nearest.city_name, nearest.country_code]\n",
    "\n",
    "    # Only add the city if it's unique\n",
    "    if city not in cities_500:\n",
    "        cities_500.append(city)\n",
    "        \n",
    "        count += 1"
   ]
  },
  {
   "cell_type": "code",
   "execution_count": 104,
   "metadata": {},
   "outputs": [
    {
     "data": {
      "text/html": [
       "<div>\n",
       "<style scoped>\n",
       "    .dataframe tbody tr th:only-of-type {\n",
       "        vertical-align: middle;\n",
       "    }\n",
       "\n",
       "    .dataframe tbody tr th {\n",
       "        vertical-align: top;\n",
       "    }\n",
       "\n",
       "    .dataframe thead th {\n",
       "        text-align: right;\n",
       "    }\n",
       "</style>\n",
       "<table border=\"1\" class=\"dataframe\">\n",
       "  <thead>\n",
       "    <tr style=\"text-align: right;\">\n",
       "      <th></th>\n",
       "      <th>City Name</th>\n",
       "      <th>Latitude</th>\n",
       "      <th>Longitude</th>\n",
       "      <th>Temperature (F)</th>\n",
       "      <th>Humidity (%)</th>\n",
       "      <th>Cloudiness (%)</th>\n",
       "      <th>Wind speed (MPH)</th>\n",
       "    </tr>\n",
       "  </thead>\n",
       "  <tbody>\n",
       "  </tbody>\n",
       "</table>\n",
       "</div>"
      ],
      "text/plain": [
       "Empty DataFrame\n",
       "Columns: [City Name, Latitude, Longitude, Temperature (F), Humidity (%), Cloudiness (%), Wind speed (MPH)]\n",
       "Index: []"
      ]
     },
     "execution_count": 104,
     "metadata": {},
     "output_type": "execute_result"
    }
   ],
   "source": [
    "# Dataframe to hold city data.\n",
    "df_cities = pd.DataFrame(columns=[\"City Name\", \"Latitude\", \"Longitude\", \"Temperature (F)\", \"Humidity (%)\", \"Cloudiness (%)\", \"Wind speed (MPH)\"])\n",
    "df_cities"
   ]
  },
  {
   "cell_type": "code",
   "execution_count": 110,
   "metadata": {},
   "outputs": [
    {
     "name": "stderr",
     "output_type": "stream",
     "text": [
      "C:\\Users\\jackl\\AppData\\Local\\Temp\\ipykernel_23600\\2721219283.py:20: FutureWarning: Passing literal json to 'read_json' is deprecated and will be removed in a future version. To read from a literal string, wrap it in a 'StringIO' object.\n",
      "  df_result = pd.read_json(result.content.decode(\"utf-8\"))\n"
     ]
    }
   ],
   "source": [
    "df_test = getCityCoordinates(\"iqaluit\", \"ca\", 1)"
   ]
  },
  {
   "cell_type": "code",
   "execution_count": 111,
   "metadata": {},
   "outputs": [
    {
     "data": {
      "text/html": [
       "<div>\n",
       "<style scoped>\n",
       "    .dataframe tbody tr th:only-of-type {\n",
       "        vertical-align: middle;\n",
       "    }\n",
       "\n",
       "    .dataframe tbody tr th {\n",
       "        vertical-align: top;\n",
       "    }\n",
       "\n",
       "    .dataframe thead th {\n",
       "        text-align: right;\n",
       "    }\n",
       "</style>\n",
       "<table border=\"1\" class=\"dataframe\">\n",
       "  <thead>\n",
       "    <tr style=\"text-align: right;\">\n",
       "      <th></th>\n",
       "      <th>name</th>\n",
       "      <th>lat</th>\n",
       "      <th>lon</th>\n",
       "      <th>country</th>\n",
       "      <th>state</th>\n",
       "    </tr>\n",
       "  </thead>\n",
       "  <tbody>\n",
       "    <tr>\n",
       "      <th>0</th>\n",
       "      <td>Iqaluit</td>\n",
       "      <td>63.74944</td>\n",
       "      <td>-68.521857</td>\n",
       "      <td>CA</td>\n",
       "      <td>Nunavut</td>\n",
       "    </tr>\n",
       "  </tbody>\n",
       "</table>\n",
       "</div>"
      ],
      "text/plain": [
       "      name       lat        lon country    state\n",
       "0  Iqaluit  63.74944 -68.521857      CA  Nunavut"
      ]
     },
     "execution_count": 111,
     "metadata": {},
     "output_type": "execute_result"
    }
   ],
   "source": [
    "df_test"
   ]
  },
  {
   "cell_type": "code",
   "execution_count": null,
   "metadata": {},
   "outputs": [],
   "source": []
  }
 ],
 "metadata": {
  "kernelspec": {
   "display_name": "base",
   "language": "python",
   "name": "python3"
  },
  "language_info": {
   "codemirror_mode": {
    "name": "ipython",
    "version": 3
   },
   "file_extension": ".py",
   "mimetype": "text/x-python",
   "name": "python",
   "nbconvert_exporter": "python",
   "pygments_lexer": "ipython3",
   "version": "3.11.5"
  }
 },
 "nbformat": 4,
 "nbformat_minor": 2
}
